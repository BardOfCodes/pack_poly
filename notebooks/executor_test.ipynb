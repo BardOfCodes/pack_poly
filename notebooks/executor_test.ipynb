{
 "cells": [
  {
   "cell_type": "code",
   "execution_count": 1,
   "metadata": {},
   "outputs": [],
   "source": [
    "\n",
    "import matplotlib.pyplot as plt\n",
    "import cv2\n",
    "%matplotlib inline\n",
    "import sys\n",
    "import torch as th\n",
    "import numpy as np\n",
    "sys.path.insert(0, '../')\n",
    "from csg_lib import CSG2DExecutor"
   ]
  },
  {
   "cell_type": "code",
   "execution_count": 2,
   "metadata": {},
   "outputs": [],
   "source": [
    "executor = CSG2DExecutor(64, th.device('cuda'))"
   ]
  },
  {
   "cell_type": "code",
   "execution_count": 11,
   "metadata": {},
   "outputs": [
    {
     "name": "stdout",
     "output_type": "stream",
     "text": [
      "stuck with primitive generation\n",
      "stuck with primitive generation\n",
      "stuck with primitive generation\n",
      "stuck with program generation\n",
      "stuck with program generation\n",
      "stuck with program generation\n",
      "stuck with program generation\n",
      "stuck with program generation\n",
      "stuck with program generation\n"
     ]
    },
    {
     "data": {
      "text/plain": [
       "<matplotlib.image.AxesImage at 0x7fd572524220>"
      ]
     },
     "execution_count": 11,
     "metadata": {},
     "output_type": "execute_result"
    },
    {
     "data": {
      "image/png": "[encoded data removed]",
      "text/plain": [
       "<Figure size 640x480 with 1 Axes>"
      ]
     },
     "metadata": {},
     "output_type": "display_data"
    }
   ],
   "source": [
    "from generator.csg_gen import get_random_csg_program\n",
    "\n",
    "random_program = get_random_csg_program(executor, n_ops=2)\n",
    "random_program = ['union', 'rectangle(-0.19153764056115197, -0.4140541748227937, 1.2618709371729395, 0.5464248890283138, 0.06555897766237617)', 'ellipse(0.2778713842453163, -0.31450749520161825, 0.2803396671317513, 1.0646027759263488, 2.16037200111899)']\n",
    "output = executor.execute(random_program)\n",
    "output = output.cpu().numpy()\n",
    "plt.imshow(output, cmap='gray')"
   ]
  },
  {
   "cell_type": "code",
   "execution_count": null,
   "metadata": {},
   "outputs": [],
   "source": []
  },
  {
   "cell_type": "code",
   "execution_count": null,
   "metadata": {},
   "outputs": [],
   "source": []
  }
 ],
 "metadata": {
  "kernelspec": {
   "display_name": "base",
   "language": "python",
   "name": "python3"
  },
  "language_info": {
   "codemirror_mode": {
    "name": "ipython",
    "version": 3
   },
   "file_extension": ".py",
   "mimetype": "text/x-python",
   "name": "python",
   "nbconvert_exporter": "python",
   "pygments_lexer": "ipython3",
   "version": "3.10.8"
  },
  "orig_nbformat": 4
 },
 "nbformat": 4,
 "nbformat_minor": 2
}
